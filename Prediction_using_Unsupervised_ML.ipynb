{
  "nbformat": 4,
  "nbformat_minor": 0,
  "metadata": {
    "colab": {
      "name": "Prediction using Unsupervised ML.ipynb",
      "provenance": [],
      "collapsed_sections": [],
      "mount_file_id": "19FFa0dBV8PJaNH4sVKL7Ho0W3NSEFFrH",
      "authorship_tag": "ABX9TyM7AADRNF/35FVEzyIwXpFx"
    },
    "kernelspec": {
      "name": "python3",
      "display_name": "Python 3"
    },
    "language_info": {
      "name": "python"
    }
  },
  "cells": [
    {
      "cell_type": "markdown",
      "metadata": {
        "id": "25oZgbglSw_B"
      },
      "source": [
        "Prediction using Unsupervised ML\n",
        "\n",
        "Dataset : https://bit.ly/3kXTdox\n",
        "\n",
        "Description- From the given ‘Iris’ dataset, predict the optimum number of clusters and represent it visually.\n",
        "\n",
        "Author- Divyani Maharana"
      ]
    },
    {
      "cell_type": "code",
      "metadata": {
        "id": "6FbspZjQSzUX"
      },
      "source": [
        "# importing libraries\n",
        "import numpy as np\n",
        "import pandas as pd\n",
        "import matplotlib.pyplot as plt"
      ],
      "execution_count": null,
      "outputs": []
    },
    {
      "cell_type": "code",
      "metadata": {
        "colab": {
          "base_uri": "https://localhost:8080/",
          "height": 402
        },
        "id": "Zaom0ZF8S-TF",
        "outputId": "de058060-fefd-4fe7-bf67-3bea27fce049"
      },
      "source": [
        "#importing the data set\n",
        "data=pd.read_csv('/content/drive/MyDrive/Iris.csv')\n",
        "data"
      ],
      "execution_count": null,
      "outputs": [
        {
          "output_type": "execute_result",
          "data": {
            "text/html": [
              "<div>\n",
              "<style scoped>\n",
              "    .dataframe tbody tr th:only-of-type {\n",
              "        vertical-align: middle;\n",
              "    }\n",
              "\n",
              "    .dataframe tbody tr th {\n",
              "        vertical-align: top;\n",
              "    }\n",
              "\n",
              "    .dataframe thead th {\n",
              "        text-align: right;\n",
              "    }\n",
              "</style>\n",
              "<table border=\"1\" class=\"dataframe\">\n",
              "  <thead>\n",
              "    <tr style=\"text-align: right;\">\n",
              "      <th></th>\n",
              "      <th>Id</th>\n",
              "      <th>SepalLengthCm</th>\n",
              "      <th>SepalWidthCm</th>\n",
              "      <th>PetalLengthCm</th>\n",
              "      <th>PetalWidthCm</th>\n",
              "      <th>Species</th>\n",
              "    </tr>\n",
              "  </thead>\n",
              "  <tbody>\n",
              "    <tr>\n",
              "      <th>0</th>\n",
              "      <td>1</td>\n",
              "      <td>5.1</td>\n",
              "      <td>3.5</td>\n",
              "      <td>1.4</td>\n",
              "      <td>0.2</td>\n",
              "      <td>Iris-setosa</td>\n",
              "    </tr>\n",
              "    <tr>\n",
              "      <th>1</th>\n",
              "      <td>2</td>\n",
              "      <td>4.9</td>\n",
              "      <td>3.0</td>\n",
              "      <td>1.4</td>\n",
              "      <td>0.2</td>\n",
              "      <td>Iris-setosa</td>\n",
              "    </tr>\n",
              "    <tr>\n",
              "      <th>2</th>\n",
              "      <td>3</td>\n",
              "      <td>4.7</td>\n",
              "      <td>3.2</td>\n",
              "      <td>1.3</td>\n",
              "      <td>0.2</td>\n",
              "      <td>Iris-setosa</td>\n",
              "    </tr>\n",
              "    <tr>\n",
              "      <th>3</th>\n",
              "      <td>4</td>\n",
              "      <td>4.6</td>\n",
              "      <td>3.1</td>\n",
              "      <td>1.5</td>\n",
              "      <td>0.2</td>\n",
              "      <td>Iris-setosa</td>\n",
              "    </tr>\n",
              "    <tr>\n",
              "      <th>4</th>\n",
              "      <td>5</td>\n",
              "      <td>5.0</td>\n",
              "      <td>3.6</td>\n",
              "      <td>1.4</td>\n",
              "      <td>0.2</td>\n",
              "      <td>Iris-setosa</td>\n",
              "    </tr>\n",
              "    <tr>\n",
              "      <th>...</th>\n",
              "      <td>...</td>\n",
              "      <td>...</td>\n",
              "      <td>...</td>\n",
              "      <td>...</td>\n",
              "      <td>...</td>\n",
              "      <td>...</td>\n",
              "    </tr>\n",
              "    <tr>\n",
              "      <th>145</th>\n",
              "      <td>146</td>\n",
              "      <td>6.7</td>\n",
              "      <td>3.0</td>\n",
              "      <td>5.2</td>\n",
              "      <td>2.3</td>\n",
              "      <td>Iris-virginica</td>\n",
              "    </tr>\n",
              "    <tr>\n",
              "      <th>146</th>\n",
              "      <td>147</td>\n",
              "      <td>6.3</td>\n",
              "      <td>2.5</td>\n",
              "      <td>5.0</td>\n",
              "      <td>1.9</td>\n",
              "      <td>Iris-virginica</td>\n",
              "    </tr>\n",
              "    <tr>\n",
              "      <th>147</th>\n",
              "      <td>148</td>\n",
              "      <td>6.5</td>\n",
              "      <td>3.0</td>\n",
              "      <td>5.2</td>\n",
              "      <td>2.0</td>\n",
              "      <td>Iris-virginica</td>\n",
              "    </tr>\n",
              "    <tr>\n",
              "      <th>148</th>\n",
              "      <td>149</td>\n",
              "      <td>6.2</td>\n",
              "      <td>3.4</td>\n",
              "      <td>5.4</td>\n",
              "      <td>2.3</td>\n",
              "      <td>Iris-virginica</td>\n",
              "    </tr>\n",
              "    <tr>\n",
              "      <th>149</th>\n",
              "      <td>150</td>\n",
              "      <td>5.9</td>\n",
              "      <td>3.0</td>\n",
              "      <td>5.1</td>\n",
              "      <td>1.8</td>\n",
              "      <td>Iris-virginica</td>\n",
              "    </tr>\n",
              "  </tbody>\n",
              "</table>\n",
              "<p>150 rows × 6 columns</p>\n",
              "</div>"
            ],
            "text/plain": [
              "      Id  SepalLengthCm  ...  PetalWidthCm         Species\n",
              "0      1            5.1  ...           0.2     Iris-setosa\n",
              "1      2            4.9  ...           0.2     Iris-setosa\n",
              "2      3            4.7  ...           0.2     Iris-setosa\n",
              "3      4            4.6  ...           0.2     Iris-setosa\n",
              "4      5            5.0  ...           0.2     Iris-setosa\n",
              "..   ...            ...  ...           ...             ...\n",
              "145  146            6.7  ...           2.3  Iris-virginica\n",
              "146  147            6.3  ...           1.9  Iris-virginica\n",
              "147  148            6.5  ...           2.0  Iris-virginica\n",
              "148  149            6.2  ...           2.3  Iris-virginica\n",
              "149  150            5.9  ...           1.8  Iris-virginica\n",
              "\n",
              "[150 rows x 6 columns]"
            ]
          },
          "metadata": {
            "tags": []
          },
          "execution_count": 2
        }
      ]
    },
    {
      "cell_type": "markdown",
      "metadata": {
        "id": "tCtLroOOTp-A"
      },
      "source": [
        "Defining Predictors"
      ]
    },
    {
      "cell_type": "code",
      "metadata": {
        "colab": {
          "base_uri": "https://localhost:8080/"
        },
        "id": "WGpWnSgCTYSX",
        "outputId": "43813a4e-f1d1-4df9-bec3-cadf82b9b27d"
      },
      "source": [
        "x=data.iloc[:,[1,2,3]].values\n",
        "#x=x.values\n",
        "x"
      ],
      "execution_count": null,
      "outputs": [
        {
          "output_type": "execute_result",
          "data": {
            "text/plain": [
              "array([[5.1, 3.5, 1.4],\n",
              "       [4.9, 3. , 1.4],\n",
              "       [4.7, 3.2, 1.3],\n",
              "       [4.6, 3.1, 1.5],\n",
              "       [5. , 3.6, 1.4],\n",
              "       [5.4, 3.9, 1.7],\n",
              "       [4.6, 3.4, 1.4],\n",
              "       [5. , 3.4, 1.5],\n",
              "       [4.4, 2.9, 1.4],\n",
              "       [4.9, 3.1, 1.5],\n",
              "       [5.4, 3.7, 1.5],\n",
              "       [4.8, 3.4, 1.6],\n",
              "       [4.8, 3. , 1.4],\n",
              "       [4.3, 3. , 1.1],\n",
              "       [5.8, 4. , 1.2],\n",
              "       [5.7, 4.4, 1.5],\n",
              "       [5.4, 3.9, 1.3],\n",
              "       [5.1, 3.5, 1.4],\n",
              "       [5.7, 3.8, 1.7],\n",
              "       [5.1, 3.8, 1.5],\n",
              "       [5.4, 3.4, 1.7],\n",
              "       [5.1, 3.7, 1.5],\n",
              "       [4.6, 3.6, 1. ],\n",
              "       [5.1, 3.3, 1.7],\n",
              "       [4.8, 3.4, 1.9],\n",
              "       [5. , 3. , 1.6],\n",
              "       [5. , 3.4, 1.6],\n",
              "       [5.2, 3.5, 1.5],\n",
              "       [5.2, 3.4, 1.4],\n",
              "       [4.7, 3.2, 1.6],\n",
              "       [4.8, 3.1, 1.6],\n",
              "       [5.4, 3.4, 1.5],\n",
              "       [5.2, 4.1, 1.5],\n",
              "       [5.5, 4.2, 1.4],\n",
              "       [4.9, 3.1, 1.5],\n",
              "       [5. , 3.2, 1.2],\n",
              "       [5.5, 3.5, 1.3],\n",
              "       [4.9, 3.1, 1.5],\n",
              "       [4.4, 3. , 1.3],\n",
              "       [5.1, 3.4, 1.5],\n",
              "       [5. , 3.5, 1.3],\n",
              "       [4.5, 2.3, 1.3],\n",
              "       [4.4, 3.2, 1.3],\n",
              "       [5. , 3.5, 1.6],\n",
              "       [5.1, 3.8, 1.9],\n",
              "       [4.8, 3. , 1.4],\n",
              "       [5.1, 3.8, 1.6],\n",
              "       [4.6, 3.2, 1.4],\n",
              "       [5.3, 3.7, 1.5],\n",
              "       [5. , 3.3, 1.4],\n",
              "       [7. , 3.2, 4.7],\n",
              "       [6.4, 3.2, 4.5],\n",
              "       [6.9, 3.1, 4.9],\n",
              "       [5.5, 2.3, 4. ],\n",
              "       [6.5, 2.8, 4.6],\n",
              "       [5.7, 2.8, 4.5],\n",
              "       [6.3, 3.3, 4.7],\n",
              "       [4.9, 2.4, 3.3],\n",
              "       [6.6, 2.9, 4.6],\n",
              "       [5.2, 2.7, 3.9],\n",
              "       [5. , 2. , 3.5],\n",
              "       [5.9, 3. , 4.2],\n",
              "       [6. , 2.2, 4. ],\n",
              "       [6.1, 2.9, 4.7],\n",
              "       [5.6, 2.9, 3.6],\n",
              "       [6.7, 3.1, 4.4],\n",
              "       [5.6, 3. , 4.5],\n",
              "       [5.8, 2.7, 4.1],\n",
              "       [6.2, 2.2, 4.5],\n",
              "       [5.6, 2.5, 3.9],\n",
              "       [5.9, 3.2, 4.8],\n",
              "       [6.1, 2.8, 4. ],\n",
              "       [6.3, 2.5, 4.9],\n",
              "       [6.1, 2.8, 4.7],\n",
              "       [6.4, 2.9, 4.3],\n",
              "       [6.6, 3. , 4.4],\n",
              "       [6.8, 2.8, 4.8],\n",
              "       [6.7, 3. , 5. ],\n",
              "       [6. , 2.9, 4.5],\n",
              "       [5.7, 2.6, 3.5],\n",
              "       [5.5, 2.4, 3.8],\n",
              "       [5.5, 2.4, 3.7],\n",
              "       [5.8, 2.7, 3.9],\n",
              "       [6. , 2.7, 5.1],\n",
              "       [5.4, 3. , 4.5],\n",
              "       [6. , 3.4, 4.5],\n",
              "       [6.7, 3.1, 4.7],\n",
              "       [6.3, 2.3, 4.4],\n",
              "       [5.6, 3. , 4.1],\n",
              "       [5.5, 2.5, 4. ],\n",
              "       [5.5, 2.6, 4.4],\n",
              "       [6.1, 3. , 4.6],\n",
              "       [5.8, 2.6, 4. ],\n",
              "       [5. , 2.3, 3.3],\n",
              "       [5.6, 2.7, 4.2],\n",
              "       [5.7, 3. , 4.2],\n",
              "       [5.7, 2.9, 4.2],\n",
              "       [6.2, 2.9, 4.3],\n",
              "       [5.1, 2.5, 3. ],\n",
              "       [5.7, 2.8, 4.1],\n",
              "       [6.3, 3.3, 6. ],\n",
              "       [5.8, 2.7, 5.1],\n",
              "       [7.1, 3. , 5.9],\n",
              "       [6.3, 2.9, 5.6],\n",
              "       [6.5, 3. , 5.8],\n",
              "       [7.6, 3. , 6.6],\n",
              "       [4.9, 2.5, 4.5],\n",
              "       [7.3, 2.9, 6.3],\n",
              "       [6.7, 2.5, 5.8],\n",
              "       [7.2, 3.6, 6.1],\n",
              "       [6.5, 3.2, 5.1],\n",
              "       [6.4, 2.7, 5.3],\n",
              "       [6.8, 3. , 5.5],\n",
              "       [5.7, 2.5, 5. ],\n",
              "       [5.8, 2.8, 5.1],\n",
              "       [6.4, 3.2, 5.3],\n",
              "       [6.5, 3. , 5.5],\n",
              "       [7.7, 3.8, 6.7],\n",
              "       [7.7, 2.6, 6.9],\n",
              "       [6. , 2.2, 5. ],\n",
              "       [6.9, 3.2, 5.7],\n",
              "       [5.6, 2.8, 4.9],\n",
              "       [7.7, 2.8, 6.7],\n",
              "       [6.3, 2.7, 4.9],\n",
              "       [6.7, 3.3, 5.7],\n",
              "       [7.2, 3.2, 6. ],\n",
              "       [6.2, 2.8, 4.8],\n",
              "       [6.1, 3. , 4.9],\n",
              "       [6.4, 2.8, 5.6],\n",
              "       [7.2, 3. , 5.8],\n",
              "       [7.4, 2.8, 6.1],\n",
              "       [7.9, 3.8, 6.4],\n",
              "       [6.4, 2.8, 5.6],\n",
              "       [6.3, 2.8, 5.1],\n",
              "       [6.1, 2.6, 5.6],\n",
              "       [7.7, 3. , 6.1],\n",
              "       [6.3, 3.4, 5.6],\n",
              "       [6.4, 3.1, 5.5],\n",
              "       [6. , 3. , 4.8],\n",
              "       [6.9, 3.1, 5.4],\n",
              "       [6.7, 3.1, 5.6],\n",
              "       [6.9, 3.1, 5.1],\n",
              "       [5.8, 2.7, 5.1],\n",
              "       [6.8, 3.2, 5.9],\n",
              "       [6.7, 3.3, 5.7],\n",
              "       [6.7, 3. , 5.2],\n",
              "       [6.3, 2.5, 5. ],\n",
              "       [6.5, 3. , 5.2],\n",
              "       [6.2, 3.4, 5.4],\n",
              "       [5.9, 3. , 5.1]])"
            ]
          },
          "metadata": {
            "tags": []
          },
          "execution_count": 21
        }
      ]
    },
    {
      "cell_type": "markdown",
      "metadata": {
        "id": "O97MHLDlUImm"
      },
      "source": [
        "**K Means Clustering**\n",
        "\n",
        "K Means clustering segrates the data into K no. of clusters \n"
      ]
    },
    {
      "cell_type": "code",
      "metadata": {
        "id": "MN8jZQp7T8PD"
      },
      "source": [
        "from sklearn.cluster import KMeans\n",
        "\n",
        "km=KMeans(n_clusters=3,init='k-means++',max_iter=300,n_init=10)\n",
        "y_kmeans=km.fit_predict(x)"
      ],
      "execution_count": null,
      "outputs": []
    },
    {
      "cell_type": "markdown",
      "metadata": {
        "id": "6PUdatCvWbkd"
      },
      "source": [
        "Visualizing the cluster"
      ]
    },
    {
      "cell_type": "code",
      "metadata": {
        "colab": {
          "base_uri": "https://localhost:8080/",
          "height": 285
        },
        "id": "ui5fJn3EWVAf",
        "outputId": "b639342f-41da-4506-f62f-928142ab9f13"
      },
      "source": [
        "plt.scatter(x[y_kmeans==0,0],x[y_kmeans==0,1],s=100, c='red',label='Iris-setosa')\n",
        "plt.scatter(x[y_kmeans==1,0],x[y_kmeans==1,1],s=100, c='blue',label='Iris-versicolour')\n",
        "plt.scatter(x[y_kmeans==2,0],x[y_kmeans==2,1],s=100, c='green',label='Iris-virginia')\n",
        "\n",
        "plt.scatter(km.cluster_centers_[:,0],km.cluster_centers_[:,1],s=100,c='yellow',label='centroid')\n",
        "plt.legend()"
      ],
      "execution_count": null,
      "outputs": [
        {
          "output_type": "execute_result",
          "data": {
            "text/plain": [
              "<matplotlib.legend.Legend at 0x7f2831d91bd0>"
            ]
          },
          "metadata": {
            "tags": []
          },
          "execution_count": 23
        },
        {
          "output_type": "display_data",
          "data": {
            "image/png": "[encoded data removed]",
            "text/plain": [
              "<Figure size 432x288 with 1 Axes>"
            ]
          },
          "metadata": {
            "tags": [],
            "needs_background": "light"
          }
        }
      ]
    },
    {
      "cell_type": "code",
      "metadata": {
        "id": "hzDgdAkxXoy6"
      },
      "source": [
        ""
      ],
      "execution_count": null,
      "outputs": []
    }
  ]
}